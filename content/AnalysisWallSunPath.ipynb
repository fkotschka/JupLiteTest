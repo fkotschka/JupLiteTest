{
 "cells": [
  {
   "cell_type": "code",
   "execution_count": 1,
   "metadata": {},
   "outputs": [],
   "source": [
    "# <api>\n",
    "#from librariesCopernicus import *\n",
    "import json\n",
    "import pandas as pd\n",
    "import numpy as np\n",
    "from matplotlib.pyplot import *\n",
    "from lmfit import *\n",
    "from lmfit.models import *\n",
    "from math import *\n",
    "from scipy.optimize import *\n",
    "from lmfit import Parameters, minimize, report_fit\n",
    "from matplotlib.pyplot import *\n",
    "from scipy.misc import imread\n",
    "import itertools\n",
    "import matplotlib.patches as mpatches\n",
    "from plotly.offline import init_notebook_mode, iplot"
   ]
  },
  {
   "cell_type": "markdown",
   "metadata": {},
   "source": [
    "## Load data & functions"
   ]
  },
  {
   "cell_type": "code",
   "execution_count": 2,
   "metadata": {
    "collapsed": true
   },
   "outputs": [],
   "source": [
    "# <api>\n",
    "#from jupyter_cms.loader import load_notebook\n",
    "#astrolib = load_notebook('./CopernicusFunctions.ipynb')"
   ]
  },
  {
   "cell_type": "markdown",
   "metadata": {},
   "source": [
    "## Define widget"
   ]
  },
  {
   "cell_type": "code",
   "execution_count": 3,
   "metadata": {
    "collapsed": true
   },
   "outputs": [],
   "source": [
    "# <api>\n",
    "def SunPath(xline, yline):\n",
    "   \n",
    "    init_notebook_mode(connected=True)\n",
    "    t=np.linspace(-1,1,100)\n",
    "    x=t+t**2\n",
    "    y=t-t**2\n",
    "    xm=np.min(x)-1.5\n",
    "    xM=np.max(x)+1.5\n",
    "    ym=np.min(y)-1.5\n",
    "    yM=np.max(y)+1.5\n",
    "    N=50\n",
    "    s=np.linspace(-1,1,N)\n",
    "    xx=s+s**2\n",
    "    yy=s-s**2\n",
    "\n",
    "    xvertical=[]\n",
    "    yvertical=[]\n",
    "    \n",
    "    # Routine, die abfragt, ob eine Vertikale passiert wurde\n",
    "    for l in range(len(xline)):\n",
    "        if l < 12:\n",
    "            xvertical.append(-20)\n",
    "            yvertical.append(-20)\n",
    "        if l >=12:\n",
    "            xvertical.append(0.65)\n",
    "            yvertical.append(-0.25)\n",
    "    \n",
    "    data=[dict(x=xline, y=yline, \n",
    "               mode='lines', \n",
    "               name='sun path',\n",
    "               line=dict(width=0, color='gray')\n",
    "              ),\n",
    "              dict(x=xline, y=yline, \n",
    "               mode='lines', \n",
    "               name='',\n",
    "               line=dict(width=0, color='gray')\n",
    "              )\n",
    "        ]\n",
    "    \n",
    "    images= [dict(\n",
    "                  source= \"http://141.20.159.91/files/copernicus/images/Orthofoto/CopOrthoRechts_10percent.jpg\",\n",
    "                  xref= \"x\",\n",
    "                  yref= \"y\",\n",
    "                  x= -5.12,\n",
    "                  y= 10.95,\n",
    "                  sizex= 15,\n",
    "                  sizey= 15,\n",
    "                  #sizing= \"stretch\",\n",
    "                  opacity= 1,\n",
    "                  layer= \"below\"\n",
    "    )]\n",
    "    \n",
    "    layout=dict(xaxis=dict(range=[-2, 2], autorange=False, zeroline=False),\n",
    "                yaxis=dict(range=[-4,4], autorange=False, zeroline=False),\n",
    "                title='Sun Path', hovermode='closest', images=images,\n",
    "                updatemenus= [{'type': 'buttons',\n",
    "                               'buttons': [{'label': 'Play',\n",
    "                                            'method': 'animate',\n",
    "                                            'args': [None]}]}]\n",
    "               )\n",
    "\n",
    "    frames=[dict(data=[dict(x=[xline[k]], \n",
    "                            y=[yline[k]], \n",
    "                            mode='markers',\n",
    "                            marker=dict(color='yellow', size=12)\n",
    "                            ),   dict(x=[xvertical[k]], \n",
    "                            y=[yvertical[k]], \n",
    "                            mode='markers', \n",
    "                            name='hour line ',\n",
    "                            marker = dict(color='black', size=9))\n",
    "                      ]) for k in range(len(xline)-1) ]    \n",
    "\n",
    "    figure1=dict(data=data,  frames=frames,layout=layout )          \n",
    "    iplot(figure1)"
   ]
  },
  {
   "cell_type": "code",
   "execution_count": 4,
   "metadata": {},
   "outputs": [
    {
     "data": {
      "text/html": [
       "<script>requirejs.config({paths: { 'plotly': ['https://cdn.plot.ly/plotly-latest.min']},});if(!window.Plotly) {{require(['plotly'],function(plotly) {window.Plotly=plotly;});}}</script>"
      ],
      "text/plain": [
       "<IPython.core.display.HTML object>"
      ]
     },
     "metadata": {},
     "output_type": "display_data"
    },
    {
     "data": {
      "text/html": [
       "<div id=\"66baa456-ca7b-462c-b4e9-f194599603c0\" style=\"height: 525px; width: 100%;\" class=\"plotly-graph-div\"></div><script type=\"text/javascript\">require([\"plotly\"], function(Plotly) { window.PLOTLYENV=window.PLOTLYENV || {};window.PLOTLYENV.BASE_URL=\"https://plot.ly\";\n",
       "        Plotly.plot(\n",
       "            '66baa456-ca7b-462c-b4e9-f194599603c0',\n",
       "            [{\"y\": [3.7, 3.5, 3.2, 2.9, 2.6, 2.3, 2.0, 1.6, 1.2, 0.7, 0.3, -0.2, -0.7, -1.2, -1.9], \"x\": [-1.6, -1.4, -1.2, -1.0, -0.8, -0.6, -0.4, -0.2, 0.0, 0.2, 0.4, 0.6, 0.8, 1.0, 1.2], \"mode\": \"lines\", \"name\": \"sun path\", \"line\": {\"width\": 0, \"color\": \"gray\"}}, {\"y\": [3.7, 3.5, 3.2, 2.9, 2.6, 2.3, 2.0, 1.6, 1.2, 0.7, 0.3, -0.2, -0.7, -1.2, -1.9], \"x\": [-1.6, -1.4, -1.2, -1.0, -0.8, -0.6, -0.4, -0.2, 0.0, 0.2, 0.4, 0.6, 0.8, 1.0, 1.2], \"mode\": \"lines\", \"name\": \"\", \"line\": {\"width\": 0, \"color\": \"gray\"}}],\n",
       "            {\"hovermode\": \"closest\", \"updatemenus\": [{\"type\": \"buttons\", \"buttons\": [{\"method\": \"animate\", \"args\": [null], \"label\": \"Play\"}]}], \"title\": \"Sun Path\", \"yaxis\": {\"autorange\": false, \"zeroline\": false, \"range\": [-4, 4]}, \"images\": [{\"sizex\": 15, \"yref\": \"y\", \"sizey\": 15, \"layer\": \"below\", \"x\": -5.12, \"xref\": \"x\", \"opacity\": 1, \"y\": 10.95, \"source\": \"http://141.20.159.91/files/copernicus/images/Orthofoto/CopOrthoRechts_10percent.jpg\"}], \"xaxis\": {\"autorange\": false, \"zeroline\": false, \"range\": [-2, 2]}},\n",
       "            {\"showLink\": true, \"linkText\": \"Export to plot.ly\"}\n",
       "        ).then(function () {return Plotly.addFrames('66baa456-ca7b-462c-b4e9-f194599603c0',[{\"data\": [{\"marker\": {\"size\": 12, \"color\": \"yellow\"}, \"x\": [-1.6], \"mode\": \"markers\", \"y\": [3.7]}, {\"marker\": {\"size\": 9, \"color\": \"black\"}, \"x\": [-20], \"mode\": \"markers\", \"name\": \"hour line \", \"y\": [-20]}]}, {\"data\": [{\"marker\": {\"size\": 12, \"color\": \"yellow\"}, \"x\": [-1.4], \"mode\": \"markers\", \"y\": [3.5]}, {\"marker\": {\"size\": 9, \"color\": \"black\"}, \"x\": [-20], \"mode\": \"markers\", \"name\": \"hour line \", \"y\": [-20]}]}, {\"data\": [{\"marker\": {\"size\": 12, \"color\": \"yellow\"}, \"x\": [-1.2], \"mode\": \"markers\", \"y\": [3.2]}, {\"marker\": {\"size\": 9, \"color\": \"black\"}, \"x\": [-20], \"mode\": \"markers\", \"name\": \"hour line \", \"y\": [-20]}]}, {\"data\": [{\"marker\": {\"size\": 12, \"color\": \"yellow\"}, \"x\": [-1.0], \"mode\": \"markers\", \"y\": [2.9]}, {\"marker\": {\"size\": 9, \"color\": \"black\"}, \"x\": [-20], \"mode\": \"markers\", \"name\": \"hour line \", \"y\": [-20]}]}, {\"data\": [{\"marker\": {\"size\": 12, \"color\": \"yellow\"}, \"x\": [-0.8], \"mode\": \"markers\", \"y\": [2.6]}, {\"marker\": {\"size\": 9, \"color\": \"black\"}, \"x\": [-20], \"mode\": \"markers\", \"name\": \"hour line \", \"y\": [-20]}]}, {\"data\": [{\"marker\": {\"size\": 12, \"color\": \"yellow\"}, \"x\": [-0.6], \"mode\": \"markers\", \"y\": [2.3]}, {\"marker\": {\"size\": 9, \"color\": \"black\"}, \"x\": [-20], \"mode\": \"markers\", \"name\": \"hour line \", \"y\": [-20]}]}, {\"data\": [{\"marker\": {\"size\": 12, \"color\": \"yellow\"}, \"x\": [-0.4], \"mode\": \"markers\", \"y\": [2.0]}, {\"marker\": {\"size\": 9, \"color\": \"black\"}, \"x\": [-20], \"mode\": \"markers\", \"name\": \"hour line \", \"y\": [-20]}]}, {\"data\": [{\"marker\": {\"size\": 12, \"color\": \"yellow\"}, \"x\": [-0.2], \"mode\": \"markers\", \"y\": [1.6]}, {\"marker\": {\"size\": 9, \"color\": \"black\"}, \"x\": [-20], \"mode\": \"markers\", \"name\": \"hour line \", \"y\": [-20]}]}, {\"data\": [{\"marker\": {\"size\": 12, \"color\": \"yellow\"}, \"x\": [0.0], \"mode\": \"markers\", \"y\": [1.2]}, {\"marker\": {\"size\": 9, \"color\": \"black\"}, \"x\": [-20], \"mode\": \"markers\", \"name\": \"hour line \", \"y\": [-20]}]}, {\"data\": [{\"marker\": {\"size\": 12, \"color\": \"yellow\"}, \"x\": [0.2], \"mode\": \"markers\", \"y\": [0.7]}, {\"marker\": {\"size\": 9, \"color\": \"black\"}, \"x\": [-20], \"mode\": \"markers\", \"name\": \"hour line \", \"y\": [-20]}]}, {\"data\": [{\"marker\": {\"size\": 12, \"color\": \"yellow\"}, \"x\": [0.4], \"mode\": \"markers\", \"y\": [0.3]}, {\"marker\": {\"size\": 9, \"color\": \"black\"}, \"x\": [-20], \"mode\": \"markers\", \"name\": \"hour line \", \"y\": [-20]}]}, {\"data\": [{\"marker\": {\"size\": 12, \"color\": \"yellow\"}, \"x\": [0.6], \"mode\": \"markers\", \"y\": [-0.2]}, {\"marker\": {\"size\": 9, \"color\": \"black\"}, \"x\": [-20], \"mode\": \"markers\", \"name\": \"hour line \", \"y\": [-20]}]}, {\"data\": [{\"marker\": {\"size\": 12, \"color\": \"yellow\"}, \"x\": [0.8], \"mode\": \"markers\", \"y\": [-0.7]}, {\"marker\": {\"size\": 9, \"color\": \"black\"}, \"x\": [0.65], \"mode\": \"markers\", \"name\": \"hour line \", \"y\": [-0.25]}]}, {\"data\": [{\"marker\": {\"size\": 12, \"color\": \"yellow\"}, \"x\": [1.0], \"mode\": \"markers\", \"y\": [-1.2]}, {\"marker\": {\"size\": 9, \"color\": \"black\"}, \"x\": [0.65], \"mode\": \"markers\", \"name\": \"hour line \", \"y\": [-0.25]}]}]);}).then(function(){Plotly.animate('66baa456-ca7b-462c-b4e9-f194599603c0');})\n",
       "        });</script>"
      ],
      "text/plain": [
       "<IPython.core.display.HTML object>"
      ]
     },
     "metadata": {},
     "output_type": "display_data"
    }
   ],
   "source": [
    "# <api>\n",
    "SunPath(np.array([-1.6, -1.4, -1.2, -1, -0.8, -0.6, -0.4, -0.2, 0, 0.2, 0.4, 0.6, 0.8, 1, 1.2]), np.array([3.7, 3.5, 3.2, 2.9, 2.6, 2.3, 2.0, 1.6, 1.2, 0.7, 0.3 ,-0.2, -0.7, -1.2, -1.9]))"
   ]
  }
 ],
 "metadata": {
  "kernelspec": {
   "display_name": "Python [conda root]",
   "language": "python",
   "name": "conda-root-py"
  },
  "language_info": {
   "codemirror_mode": {
    "name": "ipython",
    "version": 3
   },
   "file_extension": ".py",
   "mimetype": "text/x-python",
   "name": "python",
   "nbconvert_exporter": "python",
   "pygments_lexer": "ipython3",
   "version": "3.5.2"
  },
  "latex_envs": {
   "LaTeX_envs_menu_present": true,
   "autocomplete": true,
   "bibliofile": "biblio.bib",
   "cite_by": "apalike",
   "current_citInitial": 1,
   "eqLabelWithNumbers": true,
   "eqNumInitial": 1,
   "hotkeys": {
    "equation": "Ctrl-E",
    "itemize": "Ctrl-I"
   },
   "labels_anchors": false,
   "latex_user_defs": false,
   "report_style_numbering": false,
   "user_envs_cfg": false
  },
  "nbTranslate": {
   "displayLangs": [
    "*"
   ],
   "hotkey": "alt-t",
   "langInMainMenu": true,
   "sourceLang": "en",
   "targetLang": "fr",
   "useGoogleTranslate": true
  },
  "toc": {
   "colors": {
    "hover_highlight": "#DAA520",
    "running_highlight": "#FF0000",
    "selected_highlight": "#FFD700"
   },
   "moveMenuLeft": true,
   "nav_menu": {
    "height": "53px",
    "width": "252px"
   },
   "navigate_menu": false,
   "number_sections": true,
   "sideBar": true,
   "threshold": 4,
   "toc_cell": false,
   "toc_section_display": "block",
   "toc_window_display": true,
   "widenNotebook": true
  }
 },
 "nbformat": 4,
 "nbformat_minor": 2
}
