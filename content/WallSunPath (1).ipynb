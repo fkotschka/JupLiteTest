{
 "cells": [
  {
   "cell_type": "markdown",
   "metadata": {},
   "source": [
    "$\\mathrm{\\huge{Path\\,\\,of\\,\\,Sun\\,\\,on\\,\\,Wall}}$\n",
    "\n",
    "\n",
    "$\\mathrm{Gerd\\,Graßhoff^{1,2,3}, Gordon\\,Fischer^{2}}$\n",
    "  \n",
    "1: Humboldt Universität zu Berlin, 2: Excellence Cluster Topoi  \n",
    "3: Max Planck Institute for history  of science  \n",
    "Corresponding mail: gerd.grasshoff@hu-berlin.de, gordon.fischer@topoi.org  \n",
    "Date: 01.06.2017\n",
    "\n",
    "\n",
    "Keywords: Copernicus, Heliograph, Sun, Path on wall"
   ]
  },
  {
   "cell_type": "markdown",
   "metadata": {},
   "source": [
    "# Description:\n",
    "\n",
    "- ....??"
   ]
  },
  {
   "cell_type": "code",
   "execution_count": null,
   "metadata": {
    "collapsed": true
   },
   "outputs": [],
   "source": [
    "import json\n",
    "import pandas as pd\n",
    "import numpy as np\n",
    "from matplotlib.pyplot import *\n",
    "from lmfit import *\n",
    "from lmfit.models import *\n",
    "from math import *\n",
    "from scipy.optimize import *\n",
    "from lmfit import Parameters, minimize, report_fit\n",
    "from matplotlib.pyplot import *\n",
    "from scipy.misc import imread\n",
    "import itertools\n",
    "import matplotlib.patches as mpatches\n",
    "from plotly.offline import init_notebook_mode, iplot"
   ]
  },
  {
   "cell_type": "code",
   "execution_count": 1,
   "metadata": {
    "collapsed": true
   },
   "outputs": [],
   "source": [
    "%load_ext jupyter_cms"
   ]
  },
  {
   "cell_type": "code",
   "execution_count": 2,
   "metadata": {},
   "outputs": [
    {
     "data": {
      "text/html": [
       "<script>requirejs.config({paths: { 'plotly': ['https://cdn.plot.ly/plotly-latest.min']},});if(!window.Plotly) {{require(['plotly'],function(plotly) {window.Plotly=plotly;});}}</script>"
      ],
      "text/plain": [
       "<IPython.core.display.HTML object>"
      ]
     },
     "metadata": {},
     "output_type": "display_data"
    },
    {
     "data": {
      "text/html": [
       "<div id=\"e7c41f42-4407-48ff-b0a1-806fd553a947\" style=\"height: 525px; width: 100%;\" class=\"plotly-graph-div\"></div><script type=\"text/javascript\">require([\"plotly\"], function(Plotly) { window.PLOTLYENV=window.PLOTLYENV || {};window.PLOTLYENV.BASE_URL=\"https://plot.ly\";\n",
       "        Plotly.plot(\n",
       "            'e7c41f42-4407-48ff-b0a1-806fd553a947',\n",
       "            [{\"mode\": \"lines\", \"y\": [3.7, 3.5, 3.2, 2.9, 2.6, 2.3, 2.0, 1.6, 1.2, 0.7, 0.3, -0.2, -0.7, -1.2, -1.9], \"x\": [-1.6, -1.4, -1.2, -1.0, -0.8, -0.6, -0.4, -0.2, 0.0, 0.2, 0.4, 0.6, 0.8, 1.0, 1.2], \"line\": {\"color\": \"gray\", \"width\": 0}, \"name\": \"sun path\"}, {\"mode\": \"lines\", \"y\": [3.7, 3.5, 3.2, 2.9, 2.6, 2.3, 2.0, 1.6, 1.2, 0.7, 0.3, -0.2, -0.7, -1.2, -1.9], \"x\": [-1.6, -1.4, -1.2, -1.0, -0.8, -0.6, -0.4, -0.2, 0.0, 0.2, 0.4, 0.6, 0.8, 1.0, 1.2], \"line\": {\"color\": \"gray\", \"width\": 0}, \"name\": \"\"}],\n",
       "            {\"hovermode\": \"closest\", \"title\": \"Sun Path\", \"yaxis\": {\"zeroline\": false, \"range\": [-4, 4], \"autorange\": false}, \"images\": [{\"yref\": \"y\", \"sizex\": 15, \"source\": \"http://141.20.159.91/files/copernicus/images/Orthofoto/CopOrthoRechts_10percent.jpg\", \"layer\": \"below\", \"y\": 10.95, \"xref\": \"x\", \"sizey\": 15, \"x\": -5.12, \"opacity\": 1}], \"xaxis\": {\"zeroline\": false, \"range\": [-2, 2], \"autorange\": false}, \"updatemenus\": [{\"type\": \"buttons\", \"buttons\": [{\"args\": [null], \"method\": \"animate\", \"label\": \"Play\"}]}]},\n",
       "            {\"showLink\": true, \"linkText\": \"Export to plot.ly\"}\n",
       "        ).then(function () {return Plotly.addFrames('e7c41f42-4407-48ff-b0a1-806fd553a947',[{\"data\": [{\"mode\": \"markers\", \"y\": [3.7], \"x\": [-1.6], \"marker\": {\"color\": \"yellow\", \"size\": 12}}, {\"mode\": \"markers\", \"y\": [-20], \"name\": \"hour line \", \"x\": [-20], \"marker\": {\"color\": \"black\", \"size\": 9}}]}, {\"data\": [{\"mode\": \"markers\", \"y\": [3.5], \"x\": [-1.4], \"marker\": {\"color\": \"yellow\", \"size\": 12}}, {\"mode\": \"markers\", \"y\": [-20], \"name\": \"hour line \", \"x\": [-20], \"marker\": {\"color\": \"black\", \"size\": 9}}]}, {\"data\": [{\"mode\": \"markers\", \"y\": [3.2], \"x\": [-1.2], \"marker\": {\"color\": \"yellow\", \"size\": 12}}, {\"mode\": \"markers\", \"y\": [-20], \"name\": \"hour line \", \"x\": [-20], \"marker\": {\"color\": \"black\", \"size\": 9}}]}, {\"data\": [{\"mode\": \"markers\", \"y\": [2.9], \"x\": [-1.0], \"marker\": {\"color\": \"yellow\", \"size\": 12}}, {\"mode\": \"markers\", \"y\": [-20], \"name\": \"hour line \", \"x\": [-20], \"marker\": {\"color\": \"black\", \"size\": 9}}]}, {\"data\": [{\"mode\": \"markers\", \"y\": [2.6], \"x\": [-0.8], \"marker\": {\"color\": \"yellow\", \"size\": 12}}, {\"mode\": \"markers\", \"y\": [-20], \"name\": \"hour line \", \"x\": [-20], \"marker\": {\"color\": \"black\", \"size\": 9}}]}, {\"data\": [{\"mode\": \"markers\", \"y\": [2.3], \"x\": [-0.6], \"marker\": {\"color\": \"yellow\", \"size\": 12}}, {\"mode\": \"markers\", \"y\": [-20], \"name\": \"hour line \", \"x\": [-20], \"marker\": {\"color\": \"black\", \"size\": 9}}]}, {\"data\": [{\"mode\": \"markers\", \"y\": [2.0], \"x\": [-0.4], \"marker\": {\"color\": \"yellow\", \"size\": 12}}, {\"mode\": \"markers\", \"y\": [-20], \"name\": \"hour line \", \"x\": [-20], \"marker\": {\"color\": \"black\", \"size\": 9}}]}, {\"data\": [{\"mode\": \"markers\", \"y\": [1.6], \"x\": [-0.2], \"marker\": {\"color\": \"yellow\", \"size\": 12}}, {\"mode\": \"markers\", \"y\": [-20], \"name\": \"hour line \", \"x\": [-20], \"marker\": {\"color\": \"black\", \"size\": 9}}]}, {\"data\": [{\"mode\": \"markers\", \"y\": [1.2], \"x\": [0.0], \"marker\": {\"color\": \"yellow\", \"size\": 12}}, {\"mode\": \"markers\", \"y\": [-20], \"name\": \"hour line \", \"x\": [-20], \"marker\": {\"color\": \"black\", \"size\": 9}}]}, {\"data\": [{\"mode\": \"markers\", \"y\": [0.7], \"x\": [0.2], \"marker\": {\"color\": \"yellow\", \"size\": 12}}, {\"mode\": \"markers\", \"y\": [-20], \"name\": \"hour line \", \"x\": [-20], \"marker\": {\"color\": \"black\", \"size\": 9}}]}, {\"data\": [{\"mode\": \"markers\", \"y\": [0.3], \"x\": [0.4], \"marker\": {\"color\": \"yellow\", \"size\": 12}}, {\"mode\": \"markers\", \"y\": [-20], \"name\": \"hour line \", \"x\": [-20], \"marker\": {\"color\": \"black\", \"size\": 9}}]}, {\"data\": [{\"mode\": \"markers\", \"y\": [-0.2], \"x\": [0.6], \"marker\": {\"color\": \"yellow\", \"size\": 12}}, {\"mode\": \"markers\", \"y\": [-20], \"name\": \"hour line \", \"x\": [-20], \"marker\": {\"color\": \"black\", \"size\": 9}}]}, {\"data\": [{\"mode\": \"markers\", \"y\": [-0.7], \"x\": [0.8], \"marker\": {\"color\": \"yellow\", \"size\": 12}}, {\"mode\": \"markers\", \"y\": [-0.25], \"name\": \"hour line \", \"x\": [0.65], \"marker\": {\"color\": \"black\", \"size\": 9}}]}, {\"data\": [{\"mode\": \"markers\", \"y\": [-1.2], \"x\": [1.0], \"marker\": {\"color\": \"yellow\", \"size\": 12}}, {\"mode\": \"markers\", \"y\": [-0.25], \"name\": \"hour line \", \"x\": [0.65], \"marker\": {\"color\": \"black\", \"size\": 9}}]}]);}).then(function(){Plotly.animate('e7c41f42-4407-48ff-b0a1-806fd553a947');})\n",
       "        });</script>"
      ],
      "text/plain": [
       "<IPython.core.display.HTML object>"
      ]
     },
     "metadata": {},
     "output_type": "display_data"
    }
   ],
   "source": [
    "from jupyter_cms.loader import load_notebook\n",
    "astrolib = load_notebook('./AnalysisWallSunPath.ipynb')"
   ]
  }
 ],
 "metadata": {
  "kernelspec": {
   "display_name": "Python [conda root]",
   "language": "python",
   "name": "conda-root-py"
  },
  "language_info": {
   "codemirror_mode": {
    "name": "ipython",
    "version": 3
   },
   "file_extension": ".py",
   "mimetype": "text/x-python",
   "name": "python",
   "nbconvert_exporter": "python",
   "pygments_lexer": "ipython3",
   "version": "3.5.2"
  },
  "latex_envs": {
   "LaTeX_envs_menu_present": true,
   "autocomplete": true,
   "bibliofile": "biblio.bib",
   "cite_by": "apalike",
   "current_citInitial": 1,
   "eqLabelWithNumbers": true,
   "eqNumInitial": 1,
   "hotkeys": {
    "equation": "Ctrl-E",
    "itemize": "Ctrl-I"
   },
   "labels_anchors": false,
   "latex_user_defs": false,
   "report_style_numbering": false,
   "user_envs_cfg": false
  },
  "nbTranslate": {
   "displayLangs": [
    "*"
   ],
   "hotkey": "alt-t",
   "langInMainMenu": true,
   "sourceLang": "en",
   "targetLang": "fr",
   "useGoogleTranslate": true
  },
  "toc": {
   "colors": {
    "hover_highlight": "#DAA520",
    "running_highlight": "#FF0000",
    "selected_highlight": "#FFD700"
   },
   "moveMenuLeft": true,
   "navigate_menu": false,
   "number_sections": true,
   "sideBar": true,
   "threshold": 4,
   "toc_cell": false,
   "toc_section_display": "block",
   "toc_window_display": false,
   "widenNotebook": true
  }
 },
 "nbformat": 4,
 "nbformat_minor": 2
}
