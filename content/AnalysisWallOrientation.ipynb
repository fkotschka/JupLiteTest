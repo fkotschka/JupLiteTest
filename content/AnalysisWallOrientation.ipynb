{
 "cells": [
  {
   "cell_type": "markdown",
   "metadata": {},
   "source": [
    "<script>\n",
    "    var code_show=true; //true -> hide code at first\n",
    "\n",
    "    function code_toggle() {\n",
    "        $('div.prompt').hide(); // always hide prompt\n",
    "\n",
    "        if (code_show){\n",
    "            $('div.input').hide();\n",
    "        } else {\n",
    "            $('div.input').show();\n",
    "        }\n",
    "        code_show = !code_show\n",
    "    }\n",
    "    $( document ).ready(code_toggle);\n",
    "</script>"
   ]
  },
  {
   "cell_type": "code",
   "execution_count": 1,
   "metadata": {
    "collapsed": true
   },
   "outputs": [],
   "source": [
    "# <api>\n",
    "import json\n",
    "import pandas as pd\n",
    "import numpy as np\n",
    "from matplotlib.pyplot import *\n",
    "from lmfit import *\n",
    "from lmfit.models import *\n",
    "from math import *\n",
    "from scipy.optimize import *\n",
    "from lmfit import Parameters, minimize, report_fit\n",
    "from matplotlib.pyplot import *\n",
    "from scipy.misc import imread\n",
    "import itertools\n",
    "import matplotlib.patches as mpatches"
   ]
  },
  {
   "cell_type": "markdown",
   "metadata": {},
   "source": [
    "## Load data & functions"
   ]
  },
  {
   "cell_type": "code",
   "execution_count": null,
   "metadata": {
    "collapsed": true
   },
   "outputs": [],
   "source": [
    "%load_ext jupyter_cms"
   ]
  },
  {
   "cell_type": "code",
   "execution_count": 2,
   "metadata": {
    "collapsed": true
   },
   "outputs": [],
   "source": [
    "# <api>\n",
    "from jupyter_cms.loader import load_notebook\n",
    "astrolib = load_notebook('./CopernicusFunctions.ipynb')"
   ]
  },
  {
   "cell_type": "code",
   "execution_count": 3,
   "metadata": {
    "collapsed": true
   },
   "outputs": [],
   "source": [
    "# <api>\n",
    "messdaten={0:[-2.2758522679,-0.0285998021,  0.14, -30, \"intersection\", \"v1\"],1: [-2.2243235374,0.1213600085, 0.14, -25, \"intersection\", \"v1\"],2:[-2.1759588517,0.2628458036, 0.14, -20, \"intersection\", \"v1\"],3: [-2.1149379866,0.4460963895, 0.14, -15, \"intersection\", \"v1\"],4:[-2.0525611022,0.6431172507, 0.14, -10, \"intersection\", \"v1\"],5: [-1.9861161602,0.8470989103, 0.14, -6, \"intersection\", \"v1\"],6:[-0.5193553655,0.7392065339, 0.40, 5, \"intersection\", \"v2\"],7: [-0.4348301671,0.907476271, 0.40, 10, \"intersection\", \"v2\"],8:[0.2815999899,-0.1091029496, 0.66, -12, \"intersection\", \"v3\"],\n",
    "9: [0.3534690088,0.0163427446, 0.66, -6, \"intersection\", \"v3\"],10:[0.4524584122,0.1853690902, 0.66, 0, \"intersection\", \"v3\"],11: [0.5369836106,0.3333617186, 0.66, 5, \"intersection\", \"v3\"],12:[0.6273848922,0.4855913548, 0.66, 10, \"intersection\", \"v3\"],\n",
    "13: [0.7331543917,0.6644536112, 0.66, 15, \"intersection\", \"v3\"],14:[0.823103667,0.8209202552, 0.66, 20, \"intersection\", \"v3\"],15: [0.9193810319,0.9773868991, 0.66, 25, \"intersection\", \"v3\"], \n",
    "\n",
    "16:[-2.2356236976,-0.0379817478, \"None\", -36, \"horizontal\", \"h1\"],17:[-2.2089553195,-0.0455478331, \"None\", -36, \"horizontal\", \"h1\"],18:[-2.1845469734,-0.0517520231, \"None\", -36, \"horizontal\", \"h1\"],19:[-2.1605906338,-0.0555350657, \"None\", -36, \"horizontal\", \"h1\"],20:[-2.129854198,-0.0638577596, \"None\", -36, \"horizontal\", \"h1\"],21:[-2.1009257879,-0.0706672363, \"None\", -36, \"horizontal\", \"h1\"],22:[-2.0715453714,-0.075963496, \"None\", -36, \"horizontal\", \"h1\"],23:[-2.0340288395,-0.0857994069, \"None\", -36, \"horizontal\", \"h1\"],24:[-2.009168487,-0.0912469883, \"None\", -36, \"horizontal\", \"h1\"],25:[-1.9802400769,-0.0980564651, \"None\", -36, \"horizontal\", \"h1\"],26:[-2.2085033131,0.1174256442, \"None\", -30, \"horizontal\", \"h2\"],27:[-2.1533585313,0.1018395085, \"None\", -30, \"horizontal\", \"h2\"],28:[-2.081037506,0.0847401557, \"None\", -30, \"horizontal\", \"h2\"],29:[-1.9910882307,0.061436613, \"None\", -30, \"horizontal\", \"h2\"],30:[-1.9241912823,0.0466070858, \"None\", -30, \"horizontal\", \"h2\"],31:[-1.5390818225,-0.0529625967, \"None\", -30, \"horizontal\", \"h2\"], 32:[-1.4916211496,-0.0646143681, \"None\", -30, \"horizontal\", \"h2\"],33:[-1.4504885665,-0.0732397053, \"None\", -30, \"horizontal\", \"h2\"],34:[-1.4107120025,-0.0833782596, \"None\", -30, \"horizontal\", \"h2\"], 35:[-1.3605392912,-0.0942734224, \"None\", -30, \"horizontal\", \"h2\"], 36:[-2.1244301211,0.2511940322, \"None\", -24, \"horizontal\", \"h3\"], 37:[-2.0561771535,0.2324301407, \"None\", -24, \"horizontal\", \"h3\"], 38:[-1.9743639936,0.2121530321, \"None\", -24, \"horizontal\", \"h3\"], 39:[-1.8826066927,0.1876389157, \"None\", -24, \"horizontal\", \"h3\"], 40:[-1.7673450586,0.156617966, \"None\", -24, \"horizontal\", \"h3\"], 41:[-1.6755877578,0.1305906326, \"None\", -24, \"horizontal\", \"h3\"], 42:[-1.5915145658,0.1089516286, \"None\", -24, \"horizontal\", \"h3\"], 43:[-1.5106054188,0.0880692332, \"None\", -24, \"horizontal\", \"h3\"], 44:[-1.4405444255,0.0721804541, \"None\", -24, \"horizontal\", \"h3\"],45:[-1.3650593553,0.0497848416, \"None\", -24, \"horizontal\", \"h3\"],46:[-2.0652172817,0.432477436, \"None\", -18, \"horizontal\", \"h4\"],47:[-2.0145925639,0.4168913003, \"None\", -18, \"horizontal\", \"h4\"],48:[-1.9757200128,0.4049368855, \"None\", -18, \"horizontal\", \"h4\"], 49:[-1.8568423275,0.3702842148, \"None\", -18, \"horizontal\", \"h4\"], 50:[-1.7872333406,0.3504610713, \"None\", -18, \"horizontal\", \"h4\"],51:[-1.7103922512,0.3289733891, \"None\", -18, \"horizontal\", \"h4\"],52:[-0.5392436474,-0.0195204997, \"None\", -18, \"horizontal\", \"h4\"],53:[-0.457882494,-0.0431266858, \"None\", -18, \"horizontal\", \"h4\"],54:[-0.3932455776,-0.0632524727, \"None\", -18, \"horizontal\", \"h4\"],55:[-0.2947081806,-0.0917009534, \"None\", -18, \"horizontal\", \"h4\"],56:[-2.0272487434,0.6358538088, \"None\", -12, \"horizontal\", \"h1\"],57:[-1.9608038014,0.6128529095, \"None\", -12, \"horizontal\", \"h5\"],58:[-1.8807986671,0.5860689675, \"None\", -12, \"horizontal\", \"h5\"],59:[-1.8148057315,0.5648839287, \"None\", -12, \"horizontal\", \"h5\"], 60:[-1.7239524434,0.5347709092, \"None\", -12, \"horizontal\", \"h5\"], 61:[-0.3484969432,0.0882205549, \"None\", -12, \"horizontal\", \"h5\"],62:[-0.2413714244,0.0523573106, \"None\", -12, \"horizontal\", \"h5\"], 63:[-0.1414780082,0.0204284307, \"None\", -12, \"horizontal\", \"h5\"],64:[0.0433926128,-0.0357119222, \"None\", -12, \"horizontal\", \"h5\"],65:[0.197526798,-0.084740155, \"None\", -12, \"horizontal\", \"h5\"],66:[-2.2631960885,0.946063306, \"None\", -6, \"horizontal\", \"h1\"], 67:[-2.1465784351,0.9046011585, \"None\", -6, \"horizontal\", \"h1\"], 68:[-2.063409256,0.8743368174, \"None\", -6, \"horizontal\", \"h1\"], 69:[-1.9598997885,0.8372629994, \"None\", -6, \"horizontal\", \"h1\"],70:[-1.8645264364,0.8015510768, \"None\", -6, \"horizontal\", \"h6\"],71:[-1.7510728279,0.7605428945, \"None\", -6, \"horizontal\", \"h6\"], 72:[-0.3136924497,0.2511940322, \"None\", -6, \"horizontal\", \"h6\"],73:[-0.1188776878,0.1824939777, \"None\", -6, \"horizontal\", \"h6\"],74:[0.0619248755,0.1189388612, \"None\", -6, \"horizontal\", \"h6\"],75:[0.1948147595,0.0697593068, \"None\", -6, \"horizontal\", \"h6\"],76:[-0.5247794424,0.5464226806, \"None\", 0, \"horizontal\", \"h1\"],77:[-0.4569784811,0.5217572425, \"None\", 0, \"horizontal\", \"h7\"],78:[-0.2969682126,0.4624391338, \"None\", 0, \"horizontal\", \"h7\"],79:[-0.2061149246,0.4277864631, \"None\", 0, \"horizontal\", \"h7\"],80:[-0.108029534,0.3910152885, \"None\", 0, \"horizontal\", \"h7\"],81:[-0.0063280921,0.3550007225, \"None\", 0, \"horizontal\", \"h7\"],82:[0.1057694971,0.3150517922, \"None\", 0, \"horizontal\", \"h7\"], 83:[0.2255511953,0.2690499935, \"None\", 0, \"horizontal\", \"h7\"], 84:[0.3177605026,0.2356078965, \"None\", 0, \"horizontal\", \"h7\"], 85:[0.4108738227,0.1995933305, \"None\", 0, \"horizontal\", \"h7\"],86:[-0.6106606599,0.7731025961, \"None\", 5, \"horizontal\", \"h1\"],87:[-0.4972070515,0.7299759099, \"None\", 5, \"horizontal\", \"h8\"],88:[-0.4108738275,0.6954745609, \"None\", 5, \"horizontal\", \"h8\"],89:[-0.1798985529,0.6031683203, \"None\", 5, \"horizontal\", \"h8\"],90:[-0.0411325856,0.5509623317, \"None\", 5, \"horizontal\", \"h8\"],91:[0.056952805,0.5140398355, \"None\", 5, \"horizontal\", \"h8\"],92:[0.1921027211,0.4610772384, \"None\", 5, \"horizontal\", \"h8\"],93:[0.2906401181,0.4264245677, \"None\", 5, \"horizontal\", \"h8\"],94:[0.4059017522,0.3826925947, \"None\", 5, \"horizontal\", \"h8\"],95:[0.5794722129,0.3165650092, \"None\", 5, \"horizontal\", \"h8\"],96:[-0.4908789618,0.9279047013, \"None\", 10, \"horizontal\", \"h1\"], 97:[-0.3747133148,0.883264798, \"None\", 10, \"horizontal\", \"h9\"], 98:[0.0727730293,0.7054617935, \"None\", 10, \"horizontal\", \"h9\"],99:[0.2083749518,0.6518939096, \"None\", 10, \"horizontal\", \"h9\"],100:[0.3064603424,0.6128529095, \"None\", 10, \"horizontal\", \"h9\"],101:[0.4122298419,0.5707854752, \"None\", 10, \"horizontal\", \"h9\"],102:[0.4981110595,0.5358301611, \"None\", 10, \"horizontal\", \"h9\"],103:[0.5858003027,0.5008748471, \"None\", 10, \"horizontal\", \"h9\"],104:[0.6649014241,0.470005219, \"None\", 10, \"horizontal\", \"h9\"],105:[0.7078420329,0.453057188, \"None\", 10, \"horizontal\", \"h9\"],106:[0.1414780034,0.8955218562, \"None\", 15, \"horizontal\", \"h1\"],107:[0.2282632337,0.8611718289, \"None\", 15, \"horizontal\", \"h10\"],108:[0.3109804065,0.8289403056, \"None\", 15, \"horizontal\", \"h10\"],109:[0.416749906,0.7892940186, \"None\", 15, \"horizontal\", \"h10\"],110:[0.5202593735,0.7488911231, \"None\", 15, \"horizontal\", \"h10\"],111:[0.6102086487,0.7128765571, \"None\", 15, \"horizontal\", \"h10\"],112:[0.7195941995,0.6732302701, \"None\", 15, \"horizontal\", \"h10\"],113:[0.8127075196,0.6373670258, \"None\", 15, \"horizontal\", \"h10\"],114:[0.8845765385,0.6096751536, \"None\", 15, \"horizontal\", \"h10\"],115:[0.9618696343,0.5766870217, \"None\", 15, \"horizontal\", \"h10\"],116:[0.3765213356,0.9950915387, \"None\", 20, \"horizontal\", \"h1\"],117:[0.4316661175,0.9722419611, \"None\", 20, \"horizontal\", \"h11\"],118:[0.4999190851,0.9465172711, \"None\", 20, \"horizontal\", \"h11\"],119:[0.5582279118,0.9221544764, \"None\", 20, \"horizontal\", \"h11\"],120:[0.6156327256,0.8993048988, \"None\", 20, \"horizontal\", \"h11\"],121:[0.6630933985,0.880692329, \"None\", 20, \"horizontal\", \"h11\"],122:[0.7137181162,0.8611718289, \"None\", 20, \"horizontal\", \"h11\"],123:[0.7679588852,0.8430132242, \"None\", 20, \"horizontal\", \"h11\"],124:[0.8407319169,0.8135054916, \"None\", 20, \"horizontal\", \"h11\"],125:[0.9804018971,0.7653851891, \"None\", 20, \"horizontal\", \"h11\"],126:[0.6029765462,1.0949638646, \"None\", 25, \"horizontal\", \"h1\"], 127:[0.628288905,1.0848253103, \"None\", 25, \"horizontal\", \"h12\"],128:[0.6685174754,1.0690878529, \"None\", 25, \"horizontal\", \"h12\"],129:[0.7015139432,1.0572847599, \"None\", 25, \"horizontal\", \"h12\"],130:[0.7430985327,1.0415473024, \"None\", 25, \"horizontal\", \"h12\"],131:[0.77112293,1.0324680001, \"None\", 25, \"horizontal\", \"h12\"],132:[0.8045714042,1.0209675504, \"None\", 25, \"horizontal\", \"h12\"],133:[0.8339518208,1.0084078488, \"None\", 25, \"horizontal\", \"h12\"],134:[0.8588121732,0.9994798682, \"None\", 25, \"horizontal\", \"h12\"],135:[0.8827685129,0.9905518875, \"None\", 25, \"horizontal\", \"h12\"], 136: [-2.2686201654,-0.0160401005, 0.14, \"None\", \"vertical\", \"v1\"], 137: [-2.2365277104,0.0824703301, 0.14,\"None\", \"vertical\", \"v1\"], 138: [-2.2003671977,0.1886981677,0.14,\"None\", \"vertical\", \"v1\"], 139:[-2.171890794,0.2741949315, 0.14,\"None\", \"vertical\", \"v1\"],140: [-2.1316622237,0.3893507498, 0.14,\"None\", \"vertical\", \"v1\"],141: [-2.1086098969,0.4645576376, 0.14,\"None\", \"vertical\", \"v1\"],142: [-2.0620532368,0.6043788939, 0.14,\"None\", \"vertical\", \"v1\"],143: [-2.0322208139,0.7040998982, 0.14,\"None\", \"vertical\", \"v1\"],144: [-1.9802400769,0.8620797592, 0.14,\"None\", \"vertical\", \"v1\"],145: [-1.9287113464,1.0226320892, 0.14,\"None\", \"vertical\", \"v1\"],146:[-0.5934844164,0.593029766, 0.40,\"None\", \"vertical\", \"v2\"],147:[-0.5776641921,0.623899394, 0.40,\"None\", \"vertical\", \"v2\"],148:[-0.5622959743,0.6541637352, 0.40,\"None\", \"vertical\", \"v2\"],149:[-0.5446677243,0.6871518671, 0.40,\"None\", \"vertical\", \"v2\"],150:[-0.5130272758,0.7514635921, 0.40,\"None\", \"vertical\", \"v2\"],151:[-0.4949470194,0.7894453403, 0.40,\"None\", \"vertical\", \"v2\"],152:[-0.4759627503,0.8260651932, 0.40,\"None\", \"vertical\", \"v2\"],153:[-0.4596905196,0.8582967165, 0.40,\"None\", \"vertical\", \"v2\"],154:[-0.437994212,0.9030879415, 0.40,\"None\", \"vertical\", \"v2\"],155:[-0.4077097826,0.9611954766, 0.40,\"None\", \"vertical\", \"v2\"],156:[0.2947081758,-0.0880692325, 0.66,\"None\", \"vertical\", \"v3\"],157: [0.3507569704,0.006355512, 0.66,\"None\", \"vertical\", \"v3\"],158:[0.3828494254,0.0608313262, 0.66,\"None\", \"vertical\", \"v3\"],159:[0.4257900341,0.134524997, 0.66,\"None\", \"vertical\", \"v3\"],160:[0.4908789569,0.2510427105, 0.66,\"None\", \"vertical\", \"v3\"],161:[0.5735961296,0.3955549397, 0.66,\"None\", \"vertical\", \"v3\"],162:[0.6739415523,0.5623114597, 0.66,\"None\", \"vertical\", \"v3\"],163:[0.7815190774,0.7376933169, 0.66,\"None\", \"vertical\", \"v3\"],164:[0.8212956414,0.8159266389, 0.66,\"None\", \"vertical\", \"v3\"],165:[0.8389238913,0.8483094839, 0.66, \"None\", \"vertical\", \"v3\"]\n",
    "}\n",
    "fmd=[]\n",
    "for k in range(len(messdaten)):\n",
    "    fmd.append(messdaten[k])"
   ]
  },
  {
   "cell_type": "code",
   "execution_count": 4,
   "metadata": {
    "collapsed": true
   },
   "outputs": [],
   "source": [
    "# <api>\n",
    "df=pd.DataFrame(fmd)\n",
    "df=df.rename(columns={0: 'x', 1: 'y', 2: 'hour_angle', 3: 'long_sun', 4: 'type', 5: 'line' })\n",
    "df = df[df['long_sun'] != \"None\"]"
   ]
  },
  {
   "cell_type": "code",
   "execution_count": 5,
   "metadata": {
    "collapsed": true
   },
   "outputs": [],
   "source": [
    "# <api>\n",
    "from matplotlib import rc\n",
    "def ModelWall(x,H, lsun, geolat, nu, dMirror, x0, y0):\n",
    "    \n",
    "    azX=astrolib.a_from_x(x+x0) # input x variable: corresponding azimuth of sun, x0 is the correction on the coordinate system from Mialdun\n",
    "    # estimate hour angle sun\n",
    "    if H == \"None\":\n",
    "        xns=fsolve(astrolib.faz,0, args=(azX, lsun)) # null point calculation\n",
    "        H=xns[0] # hour angle from xns\n",
    "        \n",
    "    # estimate ecliptical longitude sun    \n",
    "   \n",
    "    az,alt=astrolib.sunalt(lsun, H, astrolib.geolat) # azimuth & altitude for hour angle H and geographic latitude\n",
    "    y=astrolib.wall_y(dMirror,az,alt,nu)-y0 # y value for model, y0 is the correction on the coordinate system from Mialdun\n",
    "    return y;\n",
    "\n",
    "def wall_x(d,az,nu): # all angles in radians, d in meter\n",
    "    x=-d*sin(az)/sin(az-nu)\n",
    "    return(x)\n",
    "def x_from_a(a):\n",
    "    g=wall_x(dMirror,a,nu)\n",
    "    return(g)\n",
    "\n",
    "\n",
    "def WallOrientation(orientation):\n",
    "    nu=orientation*3.14/180.\n",
    "    df_filtered = df[df['type'] == 'horizontal' ]\n",
    "    xval = [x for x in df_filtered['x']]\n",
    "    yval = [x for x in df_filtered['y']]\n",
    "    hourangle = [x for x in df_filtered['hour_angle']]\n",
    "    longsun = [x for x in df_filtered['long_sun']]\n",
    "    objecttype= [x for x in df_filtered['line']]\n",
    "    \n",
    "    # Definieren der fixen Funktion\n",
    "    #for j in range(len(constantvalues)):\n",
    "     #   globals()[constantvalues[j][0]]= constantvalues[j][1]\n",
    "    \n",
    "    datafrommodel=[]\n",
    "    datafromH0A=[]\n",
    "    datafromH1A=[]\n",
    "    datafromH2A=[]\n",
    "    H0A=[]\n",
    "    H1A=[]\n",
    "    H2A=[]\n",
    "\n",
    "\n",
    "    for m in range(0,12):\n",
    "        lsun = radians(-30+5*m)\n",
    "        H='None'\n",
    "        xplot=[]\n",
    "        for j in range(-30,10):\n",
    "           \n",
    "            geolat=0.93\n",
    "            #nu = 1.57079 #2.11\n",
    "            #nu = 2.11\n",
    "            dMirror =4.02\n",
    "            x0 = 2.423\n",
    "            y0 = 1.66\n",
    "            #H=0\n",
    "            az0,alt0=astrolib.sunalt(lsun,0, 0.93)\n",
    "            xA0=wall_x(dMirror,az0,nu)\n",
    "            H0A.append(wall_x(dMirror,az0,nu)-x0)\n",
    "        \n",
    "            #H=15\n",
    "            az1,alt1=astrolib.sunalt(lsun,0.26, 0.93)\n",
    "            xA1=wall_x(dMirror,az1,nu)\n",
    "            H1A.append(wall_x(dMirror,az1,nu)-x0)\n",
    "        \n",
    "            #H=30\n",
    "            az2,alt2=astrolib.sunalt(lsun,0.52, 0.93)\n",
    "            xA2=wall_x(dMirror,az2,nu)\n",
    "            H2A.append(wall_x(dMirror,az2,nu)-x0)\n",
    "            xplot.append(j*0.1)\n",
    "            datafrommodel.append(ModelWall(j*0.1,H, lsun, geolat, nu, dMirror, x0, y0)) \n",
    "            datafromH0A.append(ModelWall(xA0+x0,0, lsun, geolat, nu, dMirror, x0, y0)) \n",
    "            datafromH1A.append(ModelWall(xA1+x0,0.26, lsun, geolat, nu, dMirror, x0, y0)) \n",
    "            datafromH2A.append(ModelWall(xA2+x0,0.52, lsun, geolat, nu, dMirror, x0, y0))  \n",
    "       \n",
    "    figure(figsize=(20,8))\n",
    "    title( \"modeled path of projected sun for different wall orientation \" r'$\\nu$ ', fontsize=20 )\n",
    "    xlabel('x [m]', fontsize=18)\n",
    "    ylabel('y [m]', fontsize=18)\n",
    "    #Angle(nu)\n",
    "    for j in range(1,11):\n",
    "        mini=int(40*j)\n",
    "        maxi=int(40*(j+1))\n",
    "        c1 = 'r'\n",
    "        c2 = 'k-'\n",
    "        if mini == 240:\n",
    "            c1 = 'r--'\n",
    "            c2 = 'k--'\n",
    "        plot(xplot, datafrommodel[mini:maxi],  c1 ,label='_nolegend_', linewidth=1)\n",
    "    \n",
    "    plot(H0A,datafromH0A, color='black', linewidth=2)\n",
    "    plot(H1A,datafromH1A, color='black' , linewidth=2)\n",
    "    plot(H2A,datafromH2A, color='black' , linewidth=2)\n",
    "    annotate('H=0°', xy=(0, 0), xytext=(-2.4, -0.3), fontsize=15)\n",
    "    annotate('H=15°', xy=(0, 0), xytext=(-1.3, -0.3), fontsize=15)\n",
    "    annotate('H=30°', xy=(0, 0), xytext=(-0.3, -0.3), fontsize=15)\n",
    "    legend(bbox_to_anchor=(0.9012, 1), loc=2, borderaxespad=0.)\n",
    "    show()\n",
    "   "
   ]
  },
  {
   "cell_type": "markdown",
   "metadata": {},
   "source": [
    "## Define widget"
   ]
  },
  {
   "cell_type": "code",
   "execution_count": 6,
   "metadata": {},
   "outputs": [
    {
     "data": {
      "application/vnd.jupyter.widget-view+json": {
       "model_id": "b98ec825de364adb9683009dce3b47da"
      }
     },
     "metadata": {},
     "output_type": "display_data"
    }
   ],
   "source": [
    "# <api>\n",
    "from IPython.display import display\n",
    "import ipywidgets as widgets\n",
    "from ipywidgets import widgets, interactive\n",
    "v = interactive(WallOrientation, orientation=widgets.FloatSlider(value=122, min=70, max=150))\n",
    "display(v)"
   ]
  },
  {
   "cell_type": "code",
   "execution_count": null,
   "metadata": {
    "collapsed": true
   },
   "outputs": [],
   "source": []
  }
 ],
 "metadata": {
  "kernelspec": {
   "display_name": "Python [conda root]",
   "language": "python",
   "name": "conda-root-py"
  },
  "language_info": {
   "codemirror_mode": {
    "name": "ipython",
    "version": 3
   },
   "file_extension": ".py",
   "mimetype": "text/x-python",
   "name": "python",
   "nbconvert_exporter": "python",
   "pygments_lexer": "ipython3",
   "version": "3.5.2"
  },
  "latex_envs": {
   "LaTeX_envs_menu_present": true,
   "autocomplete": true,
   "bibliofile": "biblio.bib",
   "cite_by": "apalike",
   "current_citInitial": 1,
   "eqLabelWithNumbers": true,
   "eqNumInitial": 1,
   "hotkeys": {
    "equation": "Ctrl-E",
    "itemize": "Ctrl-I"
   },
   "labels_anchors": false,
   "latex_user_defs": false,
   "report_style_numbering": false,
   "user_envs_cfg": false
  },
  "nbTranslate": {
   "displayLangs": [
    "*"
   ],
   "hotkey": "alt-t",
   "langInMainMenu": true,
   "sourceLang": "en",
   "targetLang": "fr",
   "useGoogleTranslate": true
  },
  "toc": {
   "colors": {
    "hover_highlight": "#DAA520",
    "running_highlight": "#FF0000",
    "selected_highlight": "#FFD700"
   },
   "moveMenuLeft": true,
   "nav_menu": {
    "height": "53px",
    "width": "252px"
   },
   "navigate_menu": false,
   "number_sections": true,
   "sideBar": true,
   "threshold": 4,
   "toc_cell": false,
   "toc_section_display": "block",
   "toc_window_display": true,
   "widenNotebook": true
  }
 },
 "nbformat": 4,
 "nbformat_minor": 2
}
