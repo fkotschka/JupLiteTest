{
 "cells": [
  {
   "cell_type": "markdown",
   "metadata": {},
   "source": [
    "$\\mathrm{\\huge{Wall\\,\\,Orientation}}$\n",
    "\n",
    "\n",
    "$\\mathrm{Gerd\\,Graßhoff^{1,2,3}, Gordon\\,Fischer^{2}}$\n",
    "  \n",
    "1: Humboldt Universität zu Berlin, 2: Excellence Cluster Topoi  \n",
    "3: Max Planck Institute for history  of science  \n",
    "Corresponding mail: gerd.grasshoff@hu-berlin.de, gordon.fischer@topoi.org  \n",
    "Date: 01.06.2017\n",
    "\n",
    "\n",
    "Keywords: Copernicus, Heliograph, wall orientation  \n",
    "\n",
    "In order to see the full content: go to **Cell** and **Run All**"
   ]
  },
  {
   "cell_type": "markdown",
   "metadata": {},
   "source": [
    "- The path of the sun on the wall depends on the orientation. In Olsztyn the wall has a 122° angle to the north meridian. For a 90° orientation (dashed line) the equinoctial line would be horizontal\n",
    "<img src=\"images/Wall.jpeg\" alt=\"Drawing\" style=\"width: 300px;\"/>"
   ]
  },
  {
   "cell_type": "code",
   "execution_count": 1,
   "metadata": {
    "collapsed": true,
    "hide_input": true
   },
   "outputs": [],
   "source": [
    "from jupyter_cms.loader import load_notebook\n",
    "from IPython.display import display\n",
    "astrolib = load_notebook('./AnalysisWallOrientation.ipynb');"
   ]
  },
  {
   "cell_type": "code",
   "execution_count": 2,
   "metadata": {},
   "outputs": [
    {
     "data": {
      "application/vnd.jupyter.widget-view+json": {
       "model_id": "b5a7f9b8cad3407781cd1f8783cb7e82"
      }
     },
     "metadata": {},
     "output_type": "display_data"
    }
   ],
   "source": [
    "display(astrolib.v)"
   ]
  }
 ],
 "metadata": {
  "anaconda-cloud": {},
  "kernelspec": {
   "display_name": "Python 3",
   "language": "python",
   "name": "python3"
  },
  "language_info": {
   "codemirror_mode": {
    "name": "ipython",
    "version": 3
   },
   "file_extension": ".py",
   "mimetype": "text/x-python",
   "name": "python",
   "nbconvert_exporter": "python",
   "pygments_lexer": "ipython3",
   "version": "3.5.2"
  },
  "latex_envs": {
   "LaTeX_envs_menu_present": true,
   "autocomplete": true,
   "bibliofile": "biblio.bib",
   "cite_by": "apalike",
   "current_citInitial": 1,
   "eqLabelWithNumbers": true,
   "eqNumInitial": 1,
   "hotkeys": {
    "equation": "Ctrl-E",
    "itemize": "Ctrl-I"
   },
   "labels_anchors": false,
   "latex_user_defs": false,
   "report_style_numbering": false,
   "user_envs_cfg": false
  },
  "nbTranslate": {
   "displayLangs": [
    "*"
   ],
   "hotkey": "alt-t",
   "langInMainMenu": true,
   "sourceLang": "en",
   "targetLang": "fr",
   "useGoogleTranslate": true
  },
  "toc": {
   "colors": {
    "hover_highlight": "#DAA520",
    "running_highlight": "#FF0000",
    "selected_highlight": "#FFD700"
   },
   "moveMenuLeft": true,
   "nav_menu": {
    "height": "12px",
    "width": "252px"
   },
   "navigate_menu": false,
   "number_sections": true,
   "sideBar": true,
   "threshold": 4,
   "toc_cell": false,
   "toc_section_display": "block",
   "toc_window_display": false,
   "widenNotebook": false
  }
 },
 "nbformat": 4,
 "nbformat_minor": 2
}
